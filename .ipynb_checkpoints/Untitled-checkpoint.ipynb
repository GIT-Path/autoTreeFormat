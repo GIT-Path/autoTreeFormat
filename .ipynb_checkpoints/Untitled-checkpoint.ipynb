{
 "cells": [
  {
   "cell_type": "code",
   "execution_count": 414,
   "metadata": {},
   "outputs": [],
   "source": [
    "import os\n",
    "from functools import reduce\n",
    "import math\n",
    "\n",
    "def create_tree(current_dict, top_dir, prefix=\"\", parentIsLast=False, sort_alpha=True): \n",
    "    if current_dict==None:\n",
    "        return \"\"\n",
    "    \n",
    "    keys = list(current_dict.keys())\n",
    "    \n",
    "    output = \"\"\n",
    "    \n",
    "    if sort_alpha:\n",
    "        keys.sort(key=lambda x: x[0].lower())\n",
    "    \n",
    "    for i, item in enumerate(keys):\n",
    "        last = True if i==len(keys)-1 and item!=top_dir else False\n",
    "        connector = '' if item==top_dir else '└── ' if last else '├── '\n",
    "        nextPrefix = prefix + ('' if item==top_dir else '│   ' if not last else '    ' )\n",
    "        new_row = create_tree(current_dict[item], top_dir, prefix=nextPrefix, parentIsLast=last, sort_alpha=sort_alpha)\n",
    "        output += prefix + connector + item  + '\\n' + new_row\n",
    "        \n",
    "        \n",
    "    return output"
   ]
  },
  {
   "cell_type": "code",
   "execution_count": 469,
   "metadata": {},
   "outputs": [],
   "source": [
    "def get_directory_structure(rootdir, filter_sys_files=True, blacklist=[]):\n",
    "    \"\"\"\n",
    "    Creates a nested dictionary that represents the folder structure of rootdir\n",
    "    Modified by: David Cheng\n",
    "    Orginal by: Andrew Clark (http://code.activestate.com/recipes/577879-create-a-nested-dictionary-from-oswalk/)\n",
    "    \"\"\"\n",
    "    dir = {}\n",
    "    rootdir = rootdir.rstrip(os.sep)\n",
    "    start = rootdir.rfind(os.sep) + 1\n",
    "    for path, dirs, files in os.walk(rootdir):\n",
    "        if filter_sys_files:\n",
    "            files = [f for f in files if f[0]!='.' and f not in blacklist]\n",
    "            dirs[:] = [d for d in dirs if d[0]!='.' and d not in blacklist]\n",
    "        \n",
    "        folders = path[start:].split(os.sep)\n",
    "        subdir = dict.fromkeys(files)    \n",
    "        \n",
    "        parent = reduce(dict.get, folders[:-1], dir)\n",
    "        parent[folders[-1]] = subdir\n",
    "    return dir"
   ]
  },
  {
   "cell_type": "code",
   "execution_count": 474,
   "metadata": {},
   "outputs": [],
   "source": [
    "file_dict = get_directory_structure('/Users/davidcheng/Documents/Arduino/')"
   ]
  },
  {
   "cell_type": "code",
   "execution_count": null,
   "metadata": {},
   "outputs": [],
   "source": []
  },
  {
   "cell_type": "code",
   "execution_count": 475,
   "metadata": {},
   "outputs": [
    {
     "name": "stdout",
     "output_type": "stream",
     "text": [
      "Arduino\n",
      "└── libraries\n",
      "    ├── Adafruit_TCS34725\n",
      "    |   ├── Adafruit_TCS34725.h\n",
      "    |   ├── Adafruit_TCS34725.cpp\n",
      "    |   ├── examples\n",
      "    |   |   ├── colorview\n",
      "    |   |   |   ├── colorview.ino\n",
      "    |   |   |   └── processing\n",
      "    |   |   |       └── colorview\n",
      "    |   |   |           └── colorview.pde\n",
      "    |   |   ├── tcs34725\n",
      "    |   |   |   └── tcs34725.pde\n",
      "    |   |   └── tcs34725autorange\n",
      "    |   |       └── tcs34725autorange.ino\n",
      "    |   ├── library.properties\n",
      "    |   └── README.md\n",
      "    └── readme.txt\n",
      "\n"
     ]
    }
   ],
   "source": [
    "print(create_tree(file_dict, top_dir=list(file_dict.keys())[0]))"
   ]
  },
  {
   "cell_type": "code",
   "execution_count": null,
   "metadata": {},
   "outputs": [],
   "source": []
  },
  {
   "cell_type": "code",
   "execution_count": null,
   "metadata": {},
   "outputs": [],
   "source": []
  },
  {
   "cell_type": "code",
   "execution_count": null,
   "metadata": {},
   "outputs": [],
   "source": []
  },
  {
   "cell_type": "code",
   "execution_count": null,
   "metadata": {},
   "outputs": [],
   "source": []
  },
  {
   "cell_type": "code",
   "execution_count": null,
   "metadata": {},
   "outputs": [],
   "source": []
  },
  {
   "cell_type": "code",
   "execution_count": null,
   "metadata": {},
   "outputs": [],
   "source": []
  }
 ],
 "metadata": {
  "kernelspec": {
   "display_name": "Python 3",
   "language": "python",
   "name": "python3"
  },
  "language_info": {
   "codemirror_mode": {
    "name": "ipython",
    "version": 3
   },
   "file_extension": ".py",
   "mimetype": "text/x-python",
   "name": "python",
   "nbconvert_exporter": "python",
   "pygments_lexer": "ipython3",
   "version": "3.6.4"
  }
 },
 "nbformat": 4,
 "nbformat_minor": 2
}
